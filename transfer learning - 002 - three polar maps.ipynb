{
 "cells": [
  {
   "cell_type": "markdown",
   "metadata": {},
   "source": [
    "# Transfer learning   \n",
    "### Based on:   \n",
    "https://medium.com/towards-data-science/transfer-learning-using-keras-d804b2e04ef8"
   ]
  },
  {
   "cell_type": "code",
   "execution_count": 1,
   "metadata": {
    "collapsed": true
   },
   "outputs": [],
   "source": [
    "import sys\n",
    "import numpy as np\n",
    "import h5py\n",
    "import copy\n",
    "import math\n",
    "import pandas as pd\n",
    "import matplotlib.pyplot as plt\n",
    "import random\n",
    "%matplotlib inline"
   ]
  },
  {
   "cell_type": "code",
   "execution_count": 2,
   "metadata": {},
   "outputs": [
    {
     "name": "stderr",
     "output_type": "stream",
     "text": [
      "Using TensorFlow backend.\n"
     ]
    }
   ],
   "source": [
    "from keras import applications\n",
    "from keras.preprocessing.image import ImageDataGenerator\n",
    "from keras import optimizers\n",
    "from keras.models import Sequential, Model \n",
    "from keras.layers import Dropout, Flatten, Dense, GlobalAveragePooling2D\n",
    "from keras import backend as k \n",
    "from keras.optimizers import SGD\n",
    "from keras.callbacks import ModelCheckpoint, LearningRateScheduler, TensorBoard, EarlyStopping"
   ]
  },
  {
   "cell_type": "markdown",
   "metadata": {},
   "source": [
    "## Read data. Make train and test sets"
   ]
  },
  {
   "cell_type": "code",
   "execution_count": 3,
   "metadata": {
    "collapsed": true
   },
   "outputs": [],
   "source": [
    "def readScan(scanName,var_name):\n",
    "    data=h5py.File(scanName,'r')\n",
    "    Xscans=data.get(var_name)\n",
    "    X=copy.copy(Xscans.value)\n",
    "    X1=np.rollaxis(X,0,start=3)\n",
    "    return X1"
   ]
  },
  {
   "cell_type": "code",
   "execution_count": 4,
   "metadata": {
    "collapsed": true
   },
   "outputs": [],
   "source": [
    "n_echoes=100\n",
    "skip_rows=3 # the first 50 description files have a different format \n",
    "\n",
    "X_rest=[]\n",
    "X_stress=[]\n",
    "X_reserve=[]\n",
    "y=[]\n",
    "\n",
    "for idx,i in enumerate(np.arange(n_echoes)+1):\n",
    "    scan_rest='../stress_rest_reserve_100/rest{0}.mat'.format(i)\n",
    "    X_rest.append(readScan(scan_rest,'rest'))\n",
    "    scan_stress='../stress_rest_reserve_100/stress{0}.mat'.format(i)\n",
    "    X_stress.append(readScan(scan_stress,'stress'))\n",
    "    scan_reserve='../stress_rest_reserve_100/reserve{0}.mat'.format(i)\n",
    "    X_reserve.append(readScan(scan_reserve,'reserve'))\n",
    "    # the first 50 description files have a different format \n",
    "    if i==51:\n",
    "        skip_rows=0\n",
    "    labels=pd.read_csv('../Data100/PD_ANN0%03d.csv' % (i), skiprows=skip_rows)\n",
    "    # Criteria to determine whether a polar map does not have risk = 0 or has risk = 1\n",
    "    LAD=labels['Reserve mean'][0]\n",
    "    LCX=labels['Reserve mean'][1]\n",
    "    RCA=labels['Reserve mean'][2]\n",
    "    y_temp=[0 if LAD > 2 and LCX > 2 and RCA > 2 else 1]\n",
    "    y.append(y_temp[0])"
   ]
  },
  {
   "cell_type": "code",
   "execution_count": 5,
   "metadata": {
    "collapsed": true
   },
   "outputs": [],
   "source": [
    "train_test_ratio=.7\n",
    "train_size=int(n_echoes*train_test_ratio)\n",
    "rand_samples=random.sample(range(0,n_echoes),n_echoes)"
   ]
  },
  {
   "cell_type": "code",
   "execution_count": 6,
   "metadata": {
    "collapsed": true
   },
   "outputs": [],
   "source": [
    "# permute the samples\n",
    "X_rest=[X_rest[i] for i in rand_samples]\n",
    "X_stress=[X_stress[i] for i in rand_samples]\n",
    "X_reserve=[X_reserve[i] for i in rand_samples]\n",
    "y=[y[i] for i in rand_samples]"
   ]
  },
  {
   "cell_type": "code",
   "execution_count": 7,
   "metadata": {
    "collapsed": true
   },
   "outputs": [],
   "source": [
    "# Format for keras\n",
    "X_rest=np.array(X_rest)\n",
    "X_stress=np.array(X_stress)\n",
    "X_reserve=np.array(X_reserve)\n",
    "from keras.utils import to_categorical\n",
    "y=np.array(y)\n",
    "y=to_categorical(y, num_classes=2)"
   ]
  },
  {
   "cell_type": "code",
   "execution_count": 8,
   "metadata": {},
   "outputs": [
    {
     "data": {
      "text/plain": [
       "array([ 64.,  36.])"
      ]
     },
     "execution_count": 8,
     "metadata": {},
     "output_type": "execute_result"
    }
   ],
   "source": [
    "np.sum(y,0)"
   ]
  },
  {
   "cell_type": "markdown",
   "metadata": {},
   "source": [
    "---"
   ]
  },
  {
   "cell_type": "markdown",
   "metadata": {},
   "source": [
    "## Add padding to match inception shape"
   ]
  },
  {
   "cell_type": "code",
   "execution_count": 108,
   "metadata": {
    "collapsed": true
   },
   "outputs": [],
   "source": [
    "## size for VGG = 224\n",
    "## size for inception = 299"
   ]
  },
  {
   "cell_type": "code",
   "execution_count": 9,
   "metadata": {
    "collapsed": true
   },
   "outputs": [],
   "source": [
    "def match_base_model_size(X,network='VGG'):\n",
    "    \"\"\"\n",
    "    Function does not generalize, made only for specific dimensions size\n",
    "    \"\"\"\n",
    "    pixels_base_model=[224 if network=='VGG' else 299]\n",
    "    ## For VGG\n",
    "    if int(pixels_base_model[0])-np.shape(X)[1]==1:\n",
    "        print('VGG')\n",
    "        pixels_to_add=1\n",
    "        padding=((0,pixels_to_add),(0,pixels_to_add),(0,0))\n",
    "        X=[np.pad(i,padding,mode='constant', constant_values=0) for i in X]\n",
    "    ## For Inception\n",
    "    elif int((pixels_base_model[0])-np.shape(X)[1])>=2:\n",
    "        pixels_to_add=int(((pixels_base_model[0])-np.shape(X)[1])/2)\n",
    "        print('Inception')\n",
    "        padding=((pixels_to_add,pixels_to_add),(pixels_to_add,pixels_to_add),(0,0))\n",
    "        X=[np.pad(i,padding,mode='constant', constant_values=0) for i in X]\n",
    "    else:\n",
    "        print('check dimensions') \n",
    "    return(np.array(X))"
   ]
  },
  {
   "cell_type": "code",
   "execution_count": 10,
   "metadata": {},
   "outputs": [
    {
     "name": "stdout",
     "output_type": "stream",
     "text": [
      "VGG\n",
      "VGG\n",
      "VGG\n"
     ]
    }
   ],
   "source": [
    "X_rest=match_base_model_size(X_rest,'VGG')\n",
    "X_stress=match_base_model_size(X_stress,'VGG')\n",
    "X_reserve=match_base_model_size(X_reserve,'VGG')"
   ]
  },
  {
   "cell_type": "code",
   "execution_count": 11,
   "metadata": {},
   "outputs": [
    {
     "name": "stdout",
     "output_type": "stream",
     "text": [
      "(224, 224)\n"
     ]
    },
    {
     "data": {
      "image/png": "[encoded data removed]",
      "text/plain": [
       "<matplotlib.figure.Figure at 0x7f9e25431d68>"
      ]
     },
     "metadata": {},
     "output_type": "display_data"
    }
   ],
   "source": [
    "plt.pcolor(X_rest[5][:,:,1])\n",
    "print(np.shape(X_rest[5][:,:,1]))"
   ]
  },
  {
   "cell_type": "markdown",
   "metadata": {},
   "source": [
    "# Get pretrained model"
   ]
  },
  {
   "cell_type": "code",
   "execution_count": 38,
   "metadata": {},
   "outputs": [
    {
     "name": "stdout",
     "output_type": "stream",
     "text": [
      "Downloading data from https://github.com/fchollet/deep-learning-models/releases/download/v0.5/inception_v3_weights_tf_dim_ordering_tf_kernels_notop.h5\n",
      "87851008/87910968 [============================>.] - ETA: 0s"
     ]
    }
   ],
   "source": [
    "# base_model = applications.InceptionV3(weights='imagenet', include_top=False)"
   ]
  },
  {
   "cell_type": "code",
   "execution_count": 92,
   "metadata": {},
   "outputs": [
    {
     "name": "stdout",
     "output_type": "stream",
     "text": [
      "Downloading data from https://github.com/fchollet/deep-learning-models/releases/download/v0.1/vgg19_weights_tf_dim_ordering_tf_kernels_notop.h5\n",
      "80019456/80134624 [============================>.] - ETA: 0s"
     ]
    }
   ],
   "source": [
    "# base_model = applications.VGG19(weights = \"imagenet\", include_top=False)"
   ]
  },
  {
   "cell_type": "code",
   "execution_count": 39,
   "metadata": {},
   "outputs": [
    {
     "name": "stdout",
     "output_type": "stream",
     "text": [
      "Saved model to disk\n"
     ]
    }
   ],
   "source": [
    "#https://machinelearningmastery.com/save-load-keras-deep-learning-models/\n",
    "# serialize model to JSON\n",
    "# model_json = base_model.to_json()\n",
    "# with open(\"model_InceptionV3.json\", \"w\") as json_file:\n",
    "#     json_file.write(model_json)\n",
    "# # serialize weights to HDF5\n",
    "# base_model.save_weights(\"model_InceptionV3.h5\")\n",
    "# print(\"Saved model to disk\")"
   ]
  },
  {
   "cell_type": "code",
   "execution_count": 36,
   "metadata": {},
   "outputs": [
    {
     "name": "stdout",
     "output_type": "stream",
     "text": [
      "Loaded model from disk\n"
     ]
    }
   ],
   "source": [
    "#https://machinelearningmastery.com/save-load-keras-deep-learning-models/\n",
    "# load json and create model\n",
    "from keras.models import model_from_json\n",
    "json_file = open('model_VGG19.json', 'r')\n",
    "loaded_model_json = json_file.read()\n",
    "json_file.close()\n",
    "base_model = model_from_json(loaded_model_json)\n",
    "# load weights into new model\n",
    "base_model.load_weights(\"model_VGG19.h5\")\n",
    "print(\"Loaded model from disk\")"
   ]
  },
  {
   "cell_type": "markdown",
   "metadata": {},
   "source": [
    "---"
   ]
  },
  {
   "cell_type": "markdown",
   "metadata": {},
   "source": [
    "# Functions   \n",
    "https://github.com/DeepLearningSandbox/DeepLearningSandbox/blob/master/transfer_learning/fine-tune.py"
   ]
  },
  {
   "cell_type": "code",
   "execution_count": 37,
   "metadata": {
    "collapsed": true
   },
   "outputs": [],
   "source": [
    "# learning rate schedule\n",
    "def step_decay(epoch):\n",
    "    initial_lrate = 0.00001\n",
    "    drop = 0.5\n",
    "    epochs_drop = 5.0\n",
    "    lrate = initial_lrate * math.pow(drop, math.floor((1+epoch)/epochs_drop))\n",
    "    return lrate"
   ]
  },
  {
   "cell_type": "code",
   "execution_count": 38,
   "metadata": {
    "collapsed": true
   },
   "outputs": [],
   "source": [
    "# https://deeplearningsandbox.com/how-to-use-transfer-learning-and-fine-tuning-in-keras-and-tensorflow-to-build-an-image-recognition-94b0b02444f2\n",
    "def add_new_last_layer(base_model, nb_classes):\n",
    "  \"\"\"Add last layer to the convnet\n",
    "  Args:\n",
    "    base_model: keras model excluding top\n",
    "    nb_classes: # of classes\n",
    "  Returns:\n",
    "    new keras model with last layer\n",
    "  \"\"\"\n",
    "  x = base_model.output\n",
    "  x = GlobalAveragePooling2D()(x)\n",
    "  x = Dense(FC_SIZE, activation='relu')(x) \n",
    "  predictions = Dense(nb_classes, activation='softmax')(x) \n",
    "  model = Model(inputs=base_model.input, outputs=predictions)\n",
    "  return model"
   ]
  },
  {
   "cell_type": "code",
   "execution_count": 39,
   "metadata": {
    "collapsed": true
   },
   "outputs": [],
   "source": [
    "def setup_to_transfer_learn(model, base_model):\n",
    "  \"\"\"Freeze all layers and compile the model\"\"\"\n",
    "  for layer in base_model.layers:\n",
    "    layer.trainable = False\n",
    "  model.compile(optimizer='Adam',    \n",
    "                loss='categorical_crossentropy', \n",
    "                metrics=['accuracy'])"
   ]
  },
  {
   "cell_type": "code",
   "execution_count": 40,
   "metadata": {
    "collapsed": true
   },
   "outputs": [],
   "source": [
    "def setup_to_finetune(model,learning_rate):\n",
    "   \"\"\"Freeze the bottom NB_IV3_LAYERS and retrain the remaining top \n",
    "      layers.\n",
    "   note: NB_IV3_LAYERS corresponds to the top 2 inception blocks in \n",
    "         the inceptionv3 architecture\n",
    "   Args:\n",
    "     model: keras model\n",
    "   \"\"\"\n",
    "   for layer in model.layers[:NB_IV3_LAYERS_TO_FREEZE]:\n",
    "      layer.trainable = False\n",
    "   for layer in model.layers[NB_IV3_LAYERS_TO_FREEZE:]:\n",
    "      layer.trainable = True\n",
    "   model.compile(optimizer=SGD(lr=learning_rate, momentum=0.9),   \n",
    "                 loss='categorical_crossentropy',\n",
    "                metrics=['accuracy'])"
   ]
  },
  {
   "cell_type": "code",
   "execution_count": 41,
   "metadata": {},
   "outputs": [
    {
     "data": {
      "text/plain": [
       "(100, 224, 224, 3)"
      ]
     },
     "execution_count": 41,
     "metadata": {},
     "output_type": "execute_result"
    }
   ],
   "source": [
    "np.shape(X_rest)"
   ]
  },
  {
   "cell_type": "markdown",
   "metadata": {},
   "source": [
    "---"
   ]
  },
  {
   "cell_type": "code",
   "execution_count": 42,
   "metadata": {
    "collapsed": true
   },
   "outputs": [],
   "source": [
    "nb_classes=2\n",
    "FC_SIZE = 1024\n",
    "NB_EPOCHS = 30\n",
    "BAT_SIZE = 32\n",
    "NB_IV3_LAYERS_TO_FREEZE = 172"
   ]
  },
  {
   "cell_type": "code",
   "execution_count": 43,
   "metadata": {
    "collapsed": true
   },
   "outputs": [],
   "source": [
    "# learning schedule callback\n",
    "lrate = LearningRateScheduler(step_decay)\n",
    "callbacks_list = [lrate]"
   ]
  },
  {
   "cell_type": "code",
   "execution_count": 44,
   "metadata": {
    "collapsed": true
   },
   "outputs": [],
   "source": [
    "# setup model\n",
    "model = add_new_last_layer(base_model, nb_classes)"
   ]
  },
  {
   "cell_type": "code",
   "execution_count": 45,
   "metadata": {
    "collapsed": true
   },
   "outputs": [],
   "source": [
    "# transfer learning\n",
    "setup_to_transfer_learn(model, base_model)"
   ]
  },
  {
   "cell_type": "code",
   "execution_count": null,
   "metadata": {
    "collapsed": true
   },
   "outputs": [],
   "source": [
    "history_tl=model.fit(np.array(X_rest),y,batch_size=BAT_SIZE,\n",
    "                  epochs=NB_EPOCHS,shuffle=True,\n",
    "                    validation_split=.2,\n",
    "                    callbacks=callbacks_list,\n",
    "                    verbose=2)"
   ]
  },
  {
   "cell_type": "code",
   "execution_count": 51,
   "metadata": {},
   "outputs": [
    {
     "data": {
      "text/plain": [
       "[<matplotlib.lines.Line2D at 0x7f42afdeaba8>]"
      ]
     },
     "execution_count": 51,
     "metadata": {},
     "output_type": "execute_result"
    },
    {
     "data": {
      "image/png": "[encoded data removed]",
      "text/plain": [
       "<matplotlib.figure.Figure at 0x7f42afdeae80>"
      ]
     },
     "metadata": {},
     "output_type": "display_data"
    }
   ],
   "source": [
    "plt.plot(history_tl.history['acc'])\n",
    "plt.plot(history_tl.history['val_acc'],'g')"
   ]
  },
  {
   "cell_type": "code",
   "execution_count": 41,
   "metadata": {},
   "outputs": [
    {
     "data": {
      "text/plain": [
       "[<matplotlib.lines.Line2D at 0x7f42cfcb7748>]"
      ]
     },
     "execution_count": 41,
     "metadata": {},
     "output_type": "execute_result"
    },
    {
     "data": {
      "image/png": "[encoded data removed]",
      "text/plain": [
       "<matplotlib.figure.Figure at 0x7f42cfc9bba8>"
      ]
     },
     "metadata": {},
     "output_type": "display_data"
    }
   ],
   "source": [
    "plt.plot(history_tl.history['acc'])\n",
    "plt.plot(history_tl.history['val_acc'],'g')"
   ]
  },
  {
   "cell_type": "code",
   "execution_count": 52,
   "metadata": {},
   "outputs": [
    {
     "data": {
      "text/plain": [
       "[<matplotlib.lines.Line2D at 0x7f42afafd7f0>]"
      ]
     },
     "execution_count": 52,
     "metadata": {},
     "output_type": "execute_result"
    },
    {
     "data": {
      "image/png": "[encoded data removed]",
      "text/plain": [
       "<matplotlib.figure.Figure at 0x7f42afafd9e8>"
      ]
     },
     "metadata": {},
     "output_type": "display_data"
    }
   ],
   "source": [
    "plt.plot(history_tl.history['loss'])\n",
    "plt.plot(history_tl.history['val_loss'],'g')"
   ]
  },
  {
   "cell_type": "code",
   "execution_count": 43,
   "metadata": {
    "collapsed": true
   },
   "outputs": [],
   "source": [
    "learning_rate=k.get_value(model.optimizer.lr)"
   ]
  },
  {
   "cell_type": "code",
   "execution_count": 44,
   "metadata": {
    "collapsed": true
   },
   "outputs": [],
   "source": [
    " # fine-tuning\n",
    "setup_to_finetune(model,learning_rate)"
   ]
  },
  {
   "cell_type": "code",
   "execution_count": 53,
   "metadata": {},
   "outputs": [
    {
     "name": "stdout",
     "output_type": "stream",
     "text": [
      "Train on 80 samples, validate on 20 samples\n",
      "Epoch 1/5\n",
      "80/80 [==============================] - 35s - loss: 0.1191 - acc: 0.9875 - val_loss: 0.7852 - val_acc: 0.6000\n",
      "Epoch 2/5\n",
      "80/80 [==============================] - 34s - loss: 0.1220 - acc: 0.9625 - val_loss: 0.8287 - val_acc: 0.5500\n",
      "Epoch 3/5\n",
      "80/80 [==============================] - 34s - loss: 0.1291 - acc: 0.9875 - val_loss: 0.8944 - val_acc: 0.5000\n",
      "Epoch 4/5\n",
      "80/80 [==============================] - 34s - loss: 0.1338 - acc: 0.9750 - val_loss: 0.9026 - val_acc: 0.5000\n",
      "Epoch 5/5\n",
      "80/80 [==============================] - 35s - loss: 0.1208 - acc: 0.9875 - val_loss: 0.8754 - val_acc: 0.5500\n"
     ]
    }
   ],
   "source": [
    "history_ft=model.fit(X,y,batch_size=BAT_SIZE,\n",
    "                  epochs=5,shuffle=True,\n",
    "                    validation_split=.2)"
   ]
  },
  {
   "cell_type": "code",
   "execution_count": 67,
   "metadata": {
    "collapsed": true
   },
   "outputs": [],
   "source": [
    "def plot_training(history_tl,history_ft):\n",
    "  acc = history_tl.history['acc']+history_ft.history['acc']\n",
    "  val_acc = history_tl.history['val_acc']+history_ft.history['val_acc']\n",
    "  loss = history_tl.history['loss']+history_ft.history['loss']\n",
    "  val_loss = history_tl.history['val_loss']+history_ft.history['val_loss']\n",
    "  epochs = range(len(acc))\n",
    "  epochs_tl=len(history_tl.history['acc'])\n",
    "\n",
    "  plt.plot(epochs, acc, 'b')\n",
    "  plt.plot(epochs, val_acc, 'g')\n",
    "  plt.title('Training and validation accuracy')\n",
    "  plt.vlines(epochs_tl,0,1,linestyle='--')\n",
    "\n",
    "  plt.figure()\n",
    "  plt.plot(epochs, loss, 'b')\n",
    "  plt.plot(epochs, val_loss, 'g')\n",
    "  plt.title('Training and validation loss')\n",
    "plt.show()"
   ]
  },
  {
   "cell_type": "code",
   "execution_count": 68,
   "metadata": {},
   "outputs": [
    {
     "data": {
      "image/png": "[encoded data removed]",
      "text/plain": [
       "<matplotlib.figure.Figure at 0x7f42a36776d8>"
      ]
     },
     "metadata": {},
     "output_type": "display_data"
    },
    {
     "data": {
      "image/png": "[encoded data removed]",
      "text/plain": [
       "<matplotlib.figure.Figure at 0x7f42a3594828>"
      ]
     },
     "metadata": {},
     "output_type": "display_data"
    }
   ],
   "source": [
    "plot_training(history_tl,history_ft)"
   ]
  },
  {
   "cell_type": "code",
   "execution_count": 71,
   "metadata": {},
   "outputs": [
    {
     "data": {
      "text/plain": [
       "array([ 11.,   9.])"
      ]
     },
     "execution_count": 71,
     "metadata": {},
     "output_type": "execute_result"
    }
   ],
   "source": [
    "np.sum(y[80:],0)"
   ]
  },
  {
   "cell_type": "code",
   "execution_count": 72,
   "metadata": {},
   "outputs": [
    {
     "data": {
      "text/plain": [
       "array([ 64.,  36.])"
      ]
     },
     "execution_count": 72,
     "metadata": {},
     "output_type": "execute_result"
    }
   ],
   "source": [
    "np.sum(y,0)"
   ]
  },
  {
   "cell_type": "code",
   "execution_count": null,
   "metadata": {
    "collapsed": true
   },
   "outputs": [],
   "source": []
  }
 ],
 "metadata": {
  "kernelspec": {
   "display_name": "Python 3",
   "language": "python",
   "name": "python3"
  },
  "language_info": {
   "codemirror_mode": {
    "name": "ipython",
    "version": 3
   },
   "file_extension": ".py",
   "mimetype": "text/x-python",
   "name": "python",
   "nbconvert_exporter": "python",
   "pygments_lexer": "ipython3",
   "version": "3.6.1"
  }
 },
 "nbformat": 4,
 "nbformat_minor": 1
}

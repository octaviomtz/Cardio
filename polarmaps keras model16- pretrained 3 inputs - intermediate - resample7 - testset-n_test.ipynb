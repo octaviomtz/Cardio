{
 "cells": [
  {
   "cell_type": "code",
   "execution_count": null,
   "metadata": {
    "collapsed": true
   },
   "outputs": [],
   "source": [
    "# Polar maps analysis\n",
    "# Transfer learning for three polar maps"
   ]
  },
  {
   "cell_type": "code",
   "execution_count": 3,
   "metadata": {
    "collapsed": true
   },
   "outputs": [],
   "source": [
    "# Model ID, number of samples for validation and test subsets, CV fold\n",
    "model_n=16\n",
    "n_val=30\n",
    "n_test=15\n",
    "fold_seed=5"
   ]
  },
  {
   "cell_type": "code",
   "execution_count": 4,
   "metadata": {},
   "outputs": [
    {
     "name": "stderr",
     "output_type": "stream",
     "text": [
      "Using TensorFlow backend.\n",
      "/home/user/anaconda3/lib/python3.6/importlib/_bootstrap.py:205: RuntimeWarning: compiletime version 3.5 of module 'tensorflow.python.framework.fast_tensor_util' does not match runtime version 3.6\n",
      "  return f(*args, **kwds)\n"
     ]
    }
   ],
   "source": [
    "# Dependencies\n",
    "import os\n",
    "import numpy as np\n",
    "import pandas as pd\n",
    "import matplotlib.pyplot as plt\n",
    "import random\n",
    "%matplotlib inline\n",
    "\n",
    "from keras.models import Sequential\n",
    "from keras.preprocessing.image import load_img,img_to_array\n",
    "from keras.preprocessing.image import ImageDataGenerator\n",
    "from keras.preprocessing.image import load_img,img_to_array"
   ]
  },
  {
   "cell_type": "code",
   "execution_count": 5,
   "metadata": {
    "collapsed": true
   },
   "outputs": [],
   "source": [
    "from keras import backend as K\n",
    "K.clear_session()"
   ]
  },
  {
   "cell_type": "code",
   "execution_count": 6,
   "metadata": {
    "collapsed": true
   },
   "outputs": [],
   "source": [
    "# PATH\n",
    "path='all polar maps/'\n",
    "files_all=os.listdir(path)\n",
    "df=pd.DataFrame(pd.read_csv('AbstractESCdeeplearning.csv'))"
   ]
  },
  {
   "cell_type": "code",
   "execution_count": 7,
   "metadata": {
    "collapsed": true
   },
   "outputs": [],
   "source": [
    "class prepare_data():\n",
    "    def __init__(self,df,polarmap_name,path):\n",
    "        self.df=df\n",
    "        self.polarmap_name=polarmap_name\n",
    "        self.path=path\n",
    "        self.X_train=[]\n",
    "        self.X_val=[]\n",
    "        self.X_test=[]\n",
    "        self.y_train=[]\n",
    "        self.y_val=[]\n",
    "        self.y_test=[]\n",
    "        self.idxs_val=[]\n",
    "        self.idxs_test=[]\n",
    "        self.files_common=[]\n",
    "    def read_data(self):\n",
    "        \"\"\"\n",
    "        -First read all the polarmaps available. \n",
    "        -Then read the dataframe with all patients data.\n",
    "        -Keep the indices that exist for both sources\n",
    "        \"\"\"\n",
    "        ids=[str(i) for i in df.ID.values] # ids from file\n",
    "        files_reserve=[i for i in files_all if self.polarmap_name in i]  # Get all the reserve filenames and then get only their number\n",
    "        self.files_reserve_number=[str(int(i.split(self.polarmap_name)[1].split('.')[0])) for i in files_reserve] \n",
    "        self.files_common=list(set(ids).intersection(self.files_reserve_number)) # common files\n",
    "        ###\n",
    "        self.polar_maps=[]\n",
    "        for idx,i in enumerate(self.files_common):\n",
    "            jpgfile = load_img(f'{path}{self.polarmap_name}{int(self.files_common[idx]):04d}.jpg')\n",
    "            image_array=img_to_array(jpgfile)\n",
    "            #jpgfile = Image.open(f'{path}{files_common[idx]}')\n",
    "            self.polar_maps.append(image_array)\n",
    "        self.targets=[]\n",
    "        for idx,i in enumerate(self.files_common):\n",
    "            target=df.loc[np.where(df.ID==int(i))[0][0]].TotEVENT_def3\n",
    "            self.targets.append(target)\n",
    "        ###\n",
    "    def fold_with_random_samples(self,the_fold,n_val,n_test):\n",
    "        \"\"\"\n",
    "        For all the indices that exist in both sources:\n",
    "        -Find the indices for both class 1 and class 0 \n",
    "        -For each class get n_val samples for valdiation set and n_test samples for test set\n",
    "        and the rest for the trainining set\n",
    "        -Get the data in the correct format (pad and convert to array)\n",
    "        \"\"\"\n",
    "        # Find the indices for both class 1 and class 0 \n",
    "        # class 1\n",
    "        self.fold_=the_fold\n",
    "        np.random.seed(self.fold_)\n",
    "        class1_idx=np.where(np.array(self.targets)==1)[0]\n",
    "        class1_idx=np.random.permutation(class1_idx)\n",
    "        class1_val=random.sample(set(class1_idx), n_val) # n_val indices for val set\n",
    "        idx_not_in_val=[i for i in class1_idx if i not in class1_val] # indices not in val set\n",
    "        class1_test=random.sample(set(idx_not_in_val), n_test) # n_test indices for test set\n",
    "        class1_train=[i for i in class1_idx if i not in class1_val and i not in class1_test]\n",
    "        #class 0 \n",
    "        class0_idx=np.where(np.array(self.targets)==0)[0]\n",
    "        class0_idx=np.random.permutation(class0_idx)\n",
    "        class0_val=random.sample(set(class0_idx), n_val) # n_val indices for val set\n",
    "        idx_not_in_val=[i for i in class0_idx if i not in class0_val] # indices not in val set\n",
    "        class0_test=random.sample(set(idx_not_in_val), n_test) # n_test indices for test set\n",
    "        class0_train=[i for i in class0_idx if i not in class0_val and i not in class0_test]\n",
    "        # Get n_val samples for valdiation set and n_test samples for test set\n",
    "        self.idxs_val=list(class0_val)+list(class1_val)\n",
    "        X_val_temp=[self.polar_maps[i] for i in self.idxs_val]\n",
    "        y_val_temp=[self.targets[i] for i in self.idxs_val]\n",
    "        #===\n",
    "        self.idxs_test=list(class0_test)+list(class1_test)\n",
    "        X_test_temp=[self.polar_maps[i] for i in self.idxs_test]\n",
    "        y_test_temp=[self.targets[i] for i in self.idxs_test]\n",
    "        #===\n",
    "        train_idxs=list(class0_train)+list(class1_train)\n",
    "        X_train_temp=[self.polar_maps[i] for i in train_idxs]\n",
    "        y_train_temp=[self.targets[i] for i in train_idxs]\n",
    "        # Get Correct format\n",
    "        X_train_temp=[np.pad(i,[(0, 1), (0, 1),(0, 0)],mode='constant') for i in X_train_temp]\n",
    "        self.X_train=np.asarray(X_train_temp)\n",
    "        self.y_train=np.asarray(y_train_temp)\n",
    "        #self.y_train=np.expand_dims(self.y_train,-1)\n",
    "        X_val_temp=[np.pad(i,[(0, 1), (0, 1),(0, 0)],mode='constant') for i in X_val_temp]\n",
    "        self.X_val=np.asarray(X_val_temp)\n",
    "        self.y_val=np.asarray(y_val_temp)\n",
    "        #self.y_val=np.expand_dims(self.y_val,-1)\n",
    "        X_test_temp=[np.pad(i,[(0, 1), (0, 1),(0, 0)],mode='constant') for i in X_test_temp]\n",
    "        self.X_test=np.asarray(X_test_temp)\n",
    "        self.y_test=np.asarray(y_test_temp)"
   ]
  },
  {
   "cell_type": "code",
   "execution_count": 8,
   "metadata": {},
   "outputs": [],
   "source": [
    "reserve=prepare_data(df,'reserve',path)\n",
    "reserve.read_data()\n",
    "reserve.fold_with_random_samples(fold_seed,n_val,n_test)"
   ]
  },
  {
   "cell_type": "code",
   "execution_count": 9,
   "metadata": {
    "collapsed": true
   },
   "outputs": [],
   "source": [
    "rest=prepare_data(df,'rest',path)\n",
    "rest.read_data()\n",
    "rest.fold_with_random_samples(fold_seed,n_val,n_test)"
   ]
  },
  {
   "cell_type": "code",
   "execution_count": 10,
   "metadata": {
    "collapsed": true
   },
   "outputs": [],
   "source": [
    "stress=prepare_data(df,'stress',path)\n",
    "stress.read_data()\n",
    "stress.fold_with_random_samples(fold_seed,n_val,n_test)"
   ]
  },
  {
   "cell_type": "code",
   "execution_count": 13,
   "metadata": {},
   "outputs": [
    {
     "name": "stdout",
     "output_type": "stream",
     "text": [
      "n train = 1095, n val = 60, n test = 30\n",
      "Indices examples\n",
      "[  16   41   45   86   92  120  133  138  199  207  208  239  265  295  313\n",
      "  330  332  351  367  394  395  410  415  441  455  471  478  513  540  564\n",
      "  596  600  602  633  658  660  661  675  677  682  691  761  870  876  909\n",
      "  929  943  949  974  987 1026 1039 1049 1067 1101 1104 1112 1151 1160 1168]\n",
      "[   1   31   32   49  204  266  335  349  373  422  434  439  461  489  528\n",
      "  544  553  616  629  713  771  778  841  962  996 1030 1037 1090 1138 1148]\n"
     ]
    }
   ],
   "source": [
    "# Check that indices are not repeated (avoid data leaking)\n",
    "print(f'n train = {len(reserve.X_train)}, n val = {len(reserve.X_val)}, \\\n",
    "n test = {len(reserve.X_test)}')\n",
    "print('Indices examples')\n",
    "print(np.sort(reserve.idxs_val))\n",
    "print(np.sort(reserve.idxs_test))"
   ]
  },
  {
   "cell_type": "code",
   "execution_count": 15,
   "metadata": {},
   "outputs": [
    {
     "name": "stdout",
     "output_type": "stream",
     "text": [
      "0.0 255.0\n",
      "(1095, 224, 224, 3) (1095,)\n",
      "(60, 224, 224, 3) (60,)\n",
      "(1095, 224, 224, 3) (1095,)\n",
      "(60, 224, 224, 3) (60,)\n",
      "(1095, 224, 224, 3) (1095,)\n",
      "(60, 224, 224, 3) (60,)\n"
     ]
    }
   ],
   "source": [
    "# Check data characteristics\n",
    "print(np.min(reserve.X_train),np.max(reserve.X_val))\n",
    "print(np.shape(reserve.X_train),np.shape(reserve.y_train))\n",
    "print(np.shape(reserve.X_val),np.shape(reserve.y_val))\n",
    "print(np.shape(rest.X_train),np.shape(rest.y_train))\n",
    "print(np.shape(rest.X_val),np.shape(rest.y_val))\n",
    "print(np.shape(stress.X_train),np.shape(stress.y_train))\n",
    "print(np.shape(stress.X_val),np.shape(stress.y_val))"
   ]
  },
  {
   "cell_type": "code",
   "execution_count": 16,
   "metadata": {},
   "outputs": [
    {
     "name": "stdout",
     "output_type": "stream",
     "text": [
      "1187\n",
      "1187\n",
      "1187\n"
     ]
    }
   ],
   "source": [
    "print(len(reserve.files_reserve_number))\n",
    "print(len(rest.files_reserve_number))\n",
    "print(len(stress.files_reserve_number))"
   ]
  },
  {
   "cell_type": "code",
   "execution_count": 17,
   "metadata": {},
   "outputs": [
    {
     "data": {
      "text/plain": [
       "0.10410958904109589"
      ]
     },
     "execution_count": 17,
     "metadata": {},
     "output_type": "execute_result"
    }
   ],
   "source": [
    "# Check prevalence of class1\n",
    "sum(reserve.y_train)/len(reserve.y_train)"
   ]
  },
  {
   "cell_type": "markdown",
   "metadata": {
    "collapsed": true
   },
   "source": [
    "# Use class weight instead of resampling"
   ]
  },
  {
   "cell_type": "code",
   "execution_count": 18,
   "metadata": {},
   "outputs": [
    {
     "data": {
      "text/plain": [
       "9"
      ]
     },
     "execution_count": 18,
     "metadata": {},
     "output_type": "execute_result"
    }
   ],
   "source": [
    "# For resampling\n",
    "# https://datascience.stackexchange.com/questions/13490/how-to-set-class-weights-for-imbalanced-classes-in-keras\n",
    "prevalence = sum(reserve.y_train)/len(reserve.y_train)\n",
    "resampling_factor=int(1//(prevalence)*1)\n",
    "class_weight = {0 : 1.,\n",
    "                1: resampling_factor}\n",
    "resampling_factor"
   ]
  },
  {
   "cell_type": "markdown",
   "metadata": {},
   "source": [
    "# Callbacks"
   ]
  },
  {
   "cell_type": "code",
   "execution_count": 19,
   "metadata": {
    "collapsed": true
   },
   "outputs": [],
   "source": [
    "from keras.callbacks import LearningRateScheduler, ModelCheckpoint, ReduceLROnPlateau\n",
    "import math\n",
    "def step_decay(epoch):\n",
    "    initial_lrate = 0.000001\n",
    "    drop = 0.5\n",
    "    epochs_drop = 5.0\n",
    "    lrate = initial_lrate * math.pow(drop, math.floor((1+epoch)/epochs_drop))\n",
    "    return lrate\n",
    "lrate = LearningRateScheduler(step_decay)\n",
    "#===============\n",
    "#filepath=\"model6_{epoch:02d}_{val_loss:.2f}.hdf5\"\n",
    "filepath=f\"best_model{model_n}.hdf5\"\n",
    "checkpoint = ModelCheckpoint(filepath, monitor='val_loss', \n",
    "                             save_best_only=True, mode='auto')\n",
    "#==============\n",
    "reduce_lr = ReduceLROnPlateau(monitor='val_loss', factor=.5,\n",
    "                              patience=3)\n",
    "callbacks=[lrate,checkpoint]"
   ]
  },
  {
   "cell_type": "markdown",
   "metadata": {},
   "source": [
    "# Data generator"
   ]
  },
  {
   "cell_type": "code",
   "execution_count": 20,
   "metadata": {
    "collapsed": true
   },
   "outputs": [],
   "source": [
    "train_datagen = ImageDataGenerator(rescale=1./255)\n",
    "valid_datagen = ImageDataGenerator(rescale=1./255)\n",
    "test_datagen = ImageDataGenerator(rescale=1./255)"
   ]
  },
  {
   "cell_type": "markdown",
   "metadata": {},
   "source": [
    "## Generator multiple inputs"
   ]
  },
  {
   "cell_type": "code",
   "execution_count": 21,
   "metadata": {
    "collapsed": true
   },
   "outputs": [],
   "source": [
    "def generate_generator_multiple(generator,X1,X2,X3,y, batch_size):\n",
    "    genX1 = generator.flow(X1,y,\n",
    "                           batch_size = batch_size,\n",
    "                           shuffle=False, \n",
    "                           seed=7)\n",
    "    genX2 = generator.flow(X2,y,\n",
    "                           batch_size = batch_size,\n",
    "                           shuffle=False, \n",
    "                           seed=7)\n",
    "    genX3 = generator.flow(X3,y,\n",
    "                           batch_size = batch_size,\n",
    "                           shuffle=False, \n",
    "                           seed=7)\n",
    "    while True:\n",
    "            X1i = genX1.next()\n",
    "            X2i = genX2.next()\n",
    "            X3i = genX3.next()\n",
    "            yield [[X1i[0], X2i[0], X3i[0]], X2i[1]]#Yield all images and their mutual label"
   ]
  },
  {
   "cell_type": "code",
   "execution_count": 22,
   "metadata": {
    "collapsed": true
   },
   "outputs": [],
   "source": [
    "batch_size=2\n",
    "train_generator=generate_generator_multiple(train_datagen,\n",
    "                                            reserve.X_train,\n",
    "                                            stress.X_train,\n",
    "                                            rest.X_train,\n",
    "                                            stress.y_train,\n",
    "                                            batch_size=batch_size)\n",
    "valid_generator=generate_generator_multiple(valid_datagen,\n",
    "                                            reserve.X_val,\n",
    "                                            stress.X_val,\n",
    "                                            rest.X_val,\n",
    "                                            stress.y_val,\n",
    "                                            batch_size=batch_size)\n",
    "test_generator=generate_generator_multiple(test_datagen,\n",
    "                                            reserve.X_test,\n",
    "                                            stress.X_test,\n",
    "                                            rest.X_test,\n",
    "                                            stress.y_test,\n",
    "                                            batch_size=batch_size)"
   ]
  },
  {
   "cell_type": "markdown",
   "metadata": {},
   "source": [
    "# Pretrained models"
   ]
  },
  {
   "cell_type": "code",
   "execution_count": 23,
   "metadata": {
    "collapsed": true
   },
   "outputs": [],
   "source": [
    "from keras.applications import ResNet50\n",
    "from keras.layers import Dense, Input, Conv2D, MaxPooling2D, Flatten, Dropout, concatenate\n",
    "from keras.layers import Activation\n",
    "from keras.models import Model"
   ]
  },
  {
   "cell_type": "markdown",
   "metadata": {},
   "source": [
    "## Base model 1"
   ]
  },
  {
   "cell_type": "code",
   "execution_count": 24,
   "metadata": {
    "collapsed": true
   },
   "outputs": [],
   "source": [
    "input1=Input(shape=(224,224,3))\n",
    "base_model1=ResNet50(weights='imagenet',include_top=False, input_tensor=input1)\n",
    "#=== Rename the layers names to avoid conflicts\n",
    "for i in base_model1.layers:\n",
    "    i.name=f'base1_{i.name}'"
   ]
  },
  {
   "cell_type": "code",
   "execution_count": 25,
   "metadata": {
    "collapsed": true
   },
   "outputs": [],
   "source": [
    "# Intermediate layer \n",
    "layer_name = 'base1_add_9'\n",
    "intermediate_layer_model1 = Model(inputs=base_model1.input,\n",
    "                                 outputs=base_model1.get_layer(layer_name).output)"
   ]
  },
  {
   "cell_type": "code",
   "execution_count": 26,
   "metadata": {
    "collapsed": true
   },
   "outputs": [],
   "source": [
    "#Adding custom Layers \n",
    "# for layer in base_model1.layers:\n",
    "#     layer.trainable = False\n",
    "flat1 = Flatten()(intermediate_layer_model1.output)"
   ]
  },
  {
   "cell_type": "markdown",
   "metadata": {},
   "source": [
    "## Base model 2"
   ]
  },
  {
   "cell_type": "code",
   "execution_count": 27,
   "metadata": {
    "collapsed": true
   },
   "outputs": [],
   "source": [
    "input2=Input(shape=(224,224,3))\n",
    "base_model2=ResNet50(weights='imagenet',include_top=False, input_tensor=input2)\n",
    "#=== Rename the layers names to avoid conflicts\n",
    "for i in base_model2.layers:\n",
    "    i.name=f'base2_{i.name}'"
   ]
  },
  {
   "cell_type": "code",
   "execution_count": 28,
   "metadata": {},
   "outputs": [
    {
     "name": "stdout",
     "output_type": "stream",
     "text": [
      "base2_add_25\n"
     ]
    }
   ],
   "source": [
    "# The names numbers are not the same anymore, we need to find the right layer\n",
    "layers_names=[i.name for i in base_model1.layers] # Layer in model1\n",
    "name_index=layers_names.index('base1_add_9')\n",
    "layers_names2=[i.name for i in base_model2.layers] # Layer in model2\n",
    "print(layers_names2[name_index])"
   ]
  },
  {
   "cell_type": "code",
   "execution_count": 29,
   "metadata": {
    "collapsed": true
   },
   "outputs": [],
   "source": [
    "# Intermediate layer \n",
    "layer_name = layers_names2[name_index]\n",
    "intermediate_layer_model2 = Model(inputs=base_model2.input,\n",
    "                                 outputs=base_model2.get_layer(layer_name).output)"
   ]
  },
  {
   "cell_type": "code",
   "execution_count": 30,
   "metadata": {
    "collapsed": true
   },
   "outputs": [],
   "source": [
    "#Adding custom Layers \n",
    "# for layer in base_model1.layers:\n",
    "#     layer.trainable = False\n",
    "flat2 = Flatten()(intermediate_layer_model2.output)"
   ]
  },
  {
   "cell_type": "markdown",
   "metadata": {},
   "source": [
    "## Base model 3"
   ]
  },
  {
   "cell_type": "code",
   "execution_count": 31,
   "metadata": {
    "collapsed": true
   },
   "outputs": [],
   "source": [
    "input3=Input(shape=(224,224,3))\n",
    "base_model3=ResNet50(weights='imagenet',include_top=False, input_tensor=input3)\n",
    "#=== Rename the layers names to avoid conflicts\n",
    "for i in base_model3.layers:\n",
    "    i.name=f'base3_{i.name}'"
   ]
  },
  {
   "cell_type": "code",
   "execution_count": 32,
   "metadata": {},
   "outputs": [
    {
     "name": "stdout",
     "output_type": "stream",
     "text": [
      "base3_add_41\n"
     ]
    }
   ],
   "source": [
    "# The names numbers are not the same anymore, we need to find the right layer\n",
    "layers_names=[i.name for i in base_model1.layers] # Layer in model1\n",
    "name_index=layers_names.index('base1_add_9')\n",
    "layers_names3=[i.name for i in base_model3.layers] # Layer in model2\n",
    "print(layers_names3[name_index])"
   ]
  },
  {
   "cell_type": "code",
   "execution_count": 33,
   "metadata": {
    "collapsed": true
   },
   "outputs": [],
   "source": [
    "# Intermediate layer \n",
    "layer_name = layers_names3[name_index]\n",
    "intermediate_layer_model3 = Model(inputs=base_model3.input,\n",
    "                                 outputs=base_model3.get_layer(layer_name).output)"
   ]
  },
  {
   "cell_type": "code",
   "execution_count": 34,
   "metadata": {
    "collapsed": true
   },
   "outputs": [],
   "source": [
    "#Adding custom Layers \n",
    "# for layer in base_model2.layers:\n",
    "#     layer.trainable = False\n",
    "flat3 = Flatten()(intermediate_layer_model3.output)"
   ]
  },
  {
   "cell_type": "markdown",
   "metadata": {},
   "source": [
    "## Merge"
   ]
  },
  {
   "cell_type": "code",
   "execution_count": 35,
   "metadata": {
    "collapsed": true
   },
   "outputs": [],
   "source": [
    "# merge input models\n",
    "merge = concatenate([flat1, flat2, flat3])\n",
    "x=Dense(128)(merge)\n",
    "x=Activation('relu')(x)\n",
    "x=Dropout(0.5)(x)\n",
    "x=Dense(1)(x)\n",
    "out1=Activation('sigmoid')(x)"
   ]
  },
  {
   "cell_type": "code",
   "execution_count": 36,
   "metadata": {
    "collapsed": true
   },
   "outputs": [],
   "source": [
    "model1 = Model([input1,input2, input3],out1)"
   ]
  },
  {
   "cell_type": "code",
   "execution_count": 37,
   "metadata": {
    "collapsed": true
   },
   "outputs": [],
   "source": [
    "model1.compile(loss='binary_crossentropy', optimizer='adam', metrics=['accuracy'])"
   ]
  },
  {
   "cell_type": "markdown",
   "metadata": {
    "collapsed": true
   },
   "source": [
    "---"
   ]
  },
  {
   "cell_type": "markdown",
   "metadata": {},
   "source": [
    "# Train the network"
   ]
  },
  {
   "cell_type": "code",
   "execution_count": 38,
   "metadata": {},
   "outputs": [
    {
     "name": "stdout",
     "output_type": "stream",
     "text": [
      "Epoch 1/20\n",
      " - 161s - loss: 1.2166 - acc: 0.9826 - val_loss: 5.8494 - val_acc: 0.5000\n",
      "Epoch 2/20\n",
      " - 145s - loss: 1.3970 - acc: 0.8190 - val_loss: 4.1026 - val_acc: 0.5000\n",
      "Epoch 3/20\n",
      " - 145s - loss: 0.7061 - acc: 0.8556 - val_loss: 3.3709 - val_acc: 0.5000\n",
      "Epoch 4/20\n",
      " - 145s - loss: 0.8529 - acc: 0.8327 - val_loss: 2.9761 - val_acc: 0.5000\n",
      "Epoch 5/20\n",
      " - 145s - loss: 0.9047 - acc: 0.7514 - val_loss: 2.2674 - val_acc: 0.5000\n",
      "Epoch 6/20\n",
      " - 147s - loss: 0.8120 - acc: 0.7943 - val_loss: 1.8786 - val_acc: 0.5000\n",
      "Epoch 7/20\n",
      " - 145s - loss: 0.6811 - acc: 0.8355 - val_loss: 1.5678 - val_acc: 0.5000\n",
      "Epoch 8/20\n",
      " - 147s - loss: 0.5838 - acc: 0.8684 - val_loss: 1.3659 - val_acc: 0.5000\n",
      "Epoch 9/20\n",
      " - 144s - loss: 0.5448 - acc: 0.8556 - val_loss: 1.4794 - val_acc: 0.5000\n",
      "Epoch 10/20\n",
      " - 148s - loss: 0.5917 - acc: 0.8291 - val_loss: 0.5119 - val_acc: 0.7500\n",
      "Epoch 11/20\n",
      " - 150s - loss: 0.5537 - acc: 0.8629 - val_loss: 0.5100 - val_acc: 0.7500\n",
      "Epoch 12/20\n",
      " - 147s - loss: 0.5043 - acc: 0.8766 - val_loss: 0.4791 - val_acc: 0.7667\n",
      "Epoch 13/20\n",
      " - 145s - loss: 0.4365 - acc: 0.8894 - val_loss: 0.4999 - val_acc: 0.8000\n",
      "Epoch 14/20\n",
      " - 148s - loss: 0.4376 - acc: 0.8647 - val_loss: 0.4709 - val_acc: 0.8333\n",
      "Epoch 15/20\n",
      " - 147s - loss: 0.3884 - acc: 0.8931 - val_loss: 0.5832 - val_acc: 0.6500\n",
      "Epoch 16/20\n",
      " - 144s - loss: 0.3995 - acc: 0.9049 - val_loss: 0.6221 - val_acc: 0.6167\n",
      "Epoch 17/20\n",
      " - 147s - loss: 0.4221 - acc: 0.8857 - val_loss: 0.5687 - val_acc: 0.6500\n",
      "Epoch 18/20\n",
      " - 146s - loss: 0.3736 - acc: 0.9004 - val_loss: 0.6219 - val_acc: 0.6167\n",
      "Epoch 19/20\n",
      " - 145s - loss: 0.4015 - acc: 0.9049 - val_loss: 0.5943 - val_acc: 0.6333\n",
      "Epoch 20/20\n",
      " - 143s - loss: 0.3595 - acc: 0.8867 - val_loss: 0.6385 - val_acc: 0.6167\n"
     ]
    }
   ],
   "source": [
    "hist=model1.fit_generator(train_generator,\n",
    "        steps_per_epoch=len(reserve.X_train) // batch_size,\n",
    "        epochs=20,\n",
    "        class_weight=class_weight,\n",
    "        validation_data=valid_generator,\n",
    "        validation_steps=len(reserve.X_val) // batch_size,\n",
    "        callbacks=callbacks,\n",
    "        verbose=2)"
   ]
  },
  {
   "cell_type": "markdown",
   "metadata": {
    "collapsed": true
   },
   "source": [
    "---"
   ]
  },
  {
   "cell_type": "markdown",
   "metadata": {
    "collapsed": true
   },
   "source": [
    "# Generate the test subset"
   ]
  },
  {
   "cell_type": "code",
   "execution_count": 39,
   "metadata": {
    "collapsed": true
   },
   "outputs": [],
   "source": [
    "def generate_test_generator_multiple(generator,X1,X2,X3,y, batch_size):\n",
    "    genX1 = generator.flow(X1,y,\n",
    "                           batch_size = batch_size,\n",
    "                           shuffle=False, \n",
    "                           seed=7)\n",
    "    genX2 = generator.flow(X2,y,\n",
    "                           batch_size = batch_size,\n",
    "                           shuffle=False, \n",
    "                           seed=7)\n",
    "    genX3 = generator.flow(X3,y,\n",
    "                           batch_size = batch_size,\n",
    "                           shuffle=False, \n",
    "                           seed=7)\n",
    "    while True:\n",
    "            X1i = genX1.next()\n",
    "            X2i = genX2.next()\n",
    "            X3i = genX3.next()\n",
    "            yield [X1i[0], X2i[0],X3i[0]]  #Yield all images and their mutual label"
   ]
  },
  {
   "cell_type": "code",
   "execution_count": 41,
   "metadata": {
    "collapsed": true
   },
   "outputs": [],
   "source": [
    "batch_size=2\n",
    "test_generator=generate_test_generator_multiple(valid_datagen,reserve.X_test,\n",
    "                                            stress.X_test,\n",
    "                                            rest.X_test,\n",
    "                                            stress.y_test,\n",
    "                                            batch_size=batch_size)"
   ]
  },
  {
   "cell_type": "markdown",
   "metadata": {},
   "source": [
    "# Get the best model"
   ]
  },
  {
   "cell_type": "code",
   "execution_count": 40,
   "metadata": {
    "collapsed": true
   },
   "outputs": [],
   "source": [
    "model1.load_weights(f'best_model{model_n}.hdf5')"
   ]
  },
  {
   "cell_type": "markdown",
   "metadata": {},
   "source": [
    "# Print results"
   ]
  },
  {
   "cell_type": "code",
   "execution_count": 42,
   "metadata": {},
   "outputs": [
    {
     "data": {
      "text/plain": [
       "array([0, 1, 1, 1, 0, 0, 1, 0, 1, 0, 0, 0, 1, 0, 0, 1, 1, 1, 0, 1, 1, 1, 1,\n",
       "       1, 1, 1, 1, 1, 1, 1])"
      ]
     },
     "execution_count": 42,
     "metadata": {},
     "output_type": "execute_result"
    }
   ],
   "source": [
    "pred_proba=model1.predict_generator(test_generator, steps=len(stress.X_test) // batch_size)\n",
    "pred_classes=[1 if i==True else 0 for i in np.squeeze(pred_proba)>.5]\n",
    "np.asarray(np.squeeze(pred_classes))"
   ]
  },
  {
   "cell_type": "markdown",
   "metadata": {},
   "source": [
    "# Print metrics and plot results"
   ]
  },
  {
   "cell_type": "code",
   "execution_count": 43,
   "metadata": {},
   "outputs": [
    {
     "name": "stdout",
     "output_type": "stream",
     "text": [
      "0.766666666667\n"
     ]
    },
    {
     "data": {
      "text/plain": [
       "array([[ 9,  6],\n",
       "       [ 1, 14]])"
      ]
     },
     "execution_count": 43,
     "metadata": {},
     "output_type": "execute_result"
    }
   ],
   "source": [
    "from sklearn.metrics import confusion_matrix\n",
    "from sklearn.metrics import accuracy_score\n",
    "print(accuracy_score(stress.y_test,np.squeeze(pred_classes)))\n",
    "confusion_matrix(stress.y_test,np.squeeze(pred_classes))"
   ]
  },
  {
   "cell_type": "code",
   "execution_count": 44,
   "metadata": {},
   "outputs": [
    {
     "data": {
      "text/plain": [
       "[<matplotlib.lines.Line2D at 0x7efd3cf7bbe0>]"
      ]
     },
     "execution_count": 44,
     "metadata": {},
     "output_type": "execute_result"
    },
    {
     "data": {
      "image/png": "[encoded data removed]",
      "text/plain": [
       "<matplotlib.figure.Figure at 0x7efd45671208>"
      ]
     },
     "metadata": {},
     "output_type": "display_data"
    }
   ],
   "source": [
    "plt.plot(hist.history['loss'])\n",
    "plt.plot(hist.history['val_loss'])"
   ]
  },
  {
   "cell_type": "code",
   "execution_count": 45,
   "metadata": {},
   "outputs": [
    {
     "data": {
      "text/plain": [
       "[<matplotlib.lines.Line2D at 0x7efd14c9ceb8>]"
      ]
     },
     "execution_count": 45,
     "metadata": {},
     "output_type": "execute_result"
    },
    {
     "data": {
      "image/png": "[encoded data removed]",
      "text/plain": [
       "<matplotlib.figure.Figure at 0x7efd14c9ca90>"
      ]
     },
     "metadata": {},
     "output_type": "display_data"
    }
   ],
   "source": [
    "plt.plot(hist.history['acc'])\n",
    "plt.plot(hist.history['val_acc'])"
   ]
  },
  {
   "cell_type": "markdown",
   "metadata": {},
   "source": [
    "# Save results"
   ]
  },
  {
   "cell_type": "code",
   "execution_count": 46,
   "metadata": {},
   "outputs": [
    {
     "data": {
      "text/plain": [
       "(30, 1)"
      ]
     },
     "execution_count": 46,
     "metadata": {},
     "output_type": "execute_result"
    }
   ],
   "source": [
    "# Format results\n",
    "y_true=np.expand_dims(stress.y_test,-1)\n",
    "np.shape(pred_proba)\n",
    "idxs_test=[int(i) for i in reserve.idxs_test]\n",
    "idxs_val=[int(i) for i in reserve.idxs_val]"
   ]
  },
  {
   "cell_type": "code",
   "execution_count": 48,
   "metadata": {
    "collapsed": true
   },
   "outputs": [],
   "source": [
    "my_dict=({f'acc_{model_n}':hist.history['acc'],\n",
    "                         'loss':hist.history['loss'],\n",
    "                         'val_acc':hist.history['val_acc'],\n",
    "                         'val_loss':hist.history['val_loss'],\n",
    "                         'test_pred':list(np.squeeze(pred_proba)),\n",
    "                         'test_y_true':list(stress.y_test),\n",
    "                         'idxs_test':idxs_test,\n",
    "                         'idxs_val':idxs_val})"
   ]
  },
  {
   "cell_type": "code",
   "execution_count": 49,
   "metadata": {
    "collapsed": true
   },
   "outputs": [],
   "source": [
    "df_results=pd.DataFrame.from_dict(my_dict,orient='index')\n",
    "df_results=df_results.transpose()\n",
    "df_results.to_csv(f'polarmaps CNN results/polarmaps_model_{model_n}_fold{fold_seed}.csv',index=False)"
   ]
  },
  {
   "cell_type": "markdown",
   "metadata": {
    "collapsed": true
   },
   "source": [
    "# Save model visualization (if needed)"
   ]
  },
  {
   "cell_type": "code",
   "execution_count": null,
   "metadata": {
    "collapsed": true
   },
   "outputs": [],
   "source": [
    "from keras.utils.vis_utils import plot_model\n",
    "plot_model(model1, to_file='model_plot16.png', show_shapes=True, show_layer_names=True)"
   ]
  },
  {
   "cell_type": "code",
   "execution_count": null,
   "metadata": {
    "collapsed": true
   },
   "outputs": [],
   "source": []
  }
 ],
 "metadata": {
  "kernelspec": {
   "display_name": "Python 3",
   "language": "python",
   "name": "python3"
  },
  "language_info": {
   "codemirror_mode": {
    "name": "ipython",
    "version": 3
   },
   "file_extension": ".py",
   "mimetype": "text/x-python",
   "name": "python",
   "nbconvert_exporter": "python",
   "pygments_lexer": "ipython3",
   "version": "3.6.0"
  }
 },
 "nbformat": 4,
 "nbformat_minor": 2
}
